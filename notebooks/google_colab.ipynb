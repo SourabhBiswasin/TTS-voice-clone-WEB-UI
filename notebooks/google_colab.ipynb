{
  "cells": [
    {
      "cell_type": "code",
      "execution_count": 1,
      "id": "Omt6xz6ljwIR",
      "metadata": {
        "colab": {
          "base_uri": "https://localhost:8080/"
        },
        "id": "Omt6xz6ljwIR",
        "outputId": "27f0347d-970b-415a-8836-0bd235bc8bca"
      },
      "outputs": [
        {
          "output_type": "stream",
          "name": "stdout",
          "text": [
            "Cloning into 'tts-generation-webui'...\n",
            "remote: Enumerating objects: 3491, done.\u001b[K\n",
            "remote: Counting objects: 100% (943/943), done.\u001b[K\n",
            "remote: Compressing objects: 100% (481/481), done.\u001b[K\n",
            "remote: Total 3491 (delta 620), reused 481 (delta 452), pack-reused 2548 (from 3)\u001b[K\n",
            "Receiving objects: 100% (3491/3491), 33.21 MiB | 24.02 MiB/s, done.\n",
            "Resolving deltas: 100% (1925/1925), done.\n"
          ]
        }
      ],
      "source": [
        "!git clone https://github.com/rsxdalv/tts-generation-webui\n",
        "\n",
        "import os\n",
        "os.chdir(\"./tts-generation-webui\")"
      ]
    },
    {
      "cell_type": "code",
      "execution_count": null,
      "id": "5be2efe7",
      "metadata": {
        "colab": {
          "base_uri": "https://localhost:8080/"
        },
        "id": "5be2efe7",
        "outputId": "1ffe9521-9e37-414f-d281-543a6e936fe5"
      },
      "outputs": [
        {
          "output_type": "stream",
          "name": "stdout",
          "text": [
            "Collecting uv\n",
            "  Downloading uv-0.5.27-py3-none-manylinux_2_17_x86_64.manylinux2014_x86_64.whl.metadata (11 kB)\n",
            "Downloading uv-0.5.27-py3-none-manylinux_2_17_x86_64.manylinux2014_x86_64.whl (16.2 MB)\n",
            "\u001b[2K   \u001b[90m━━━━━━━━━━━━━━━━━━━━━━━━━━━━━━━━━━━━━━━━\u001b[0m \u001b[32m16.2/16.2 MB\u001b[0m \u001b[31m103.9 MB/s\u001b[0m eta \u001b[36m0:00:00\u001b[0m\n",
            "\u001b[?25hInstalling collected packages: uv\n",
            "Successfully installed uv-0.5.27\n",
            "\u001b[2mUsing Python 3.11.11 environment at: /usr\u001b[0m\n",
            "\u001b[2mResolved \u001b[1m122 packages\u001b[0m \u001b[2min 3.66s\u001b[0m\u001b[0m\n",
            "\u001b[1m\u001b[31merror\u001b[39m\u001b[0m: Failed to determine installation plan\n",
            "  \u001b[1m\u001b[31mCaused by\u001b[39m\u001b[0m: A URL dependency is incompatible with the current platform: https://github.com/rsxdalv/fairseq/releases/download/v0.12.3/fairseq-0.12.13-cp310-cp310-manylinux_2_17_x86_64.manylinux2014_x86_64.whl\n",
            "\u001b[2mUsing Python 3.11.11 environment at: /usr\u001b[0m\n",
            "\u001b[2mResolved \u001b[1m70 packages\u001b[0m \u001b[2min 1.69s\u001b[0m\u001b[0m\n"
          ]
        }
      ],
      "source": [
        "# Adapted from Dockerfile\n",
        "# Install python dependencies\n",
        "# !uv pip install --no-progress --system --upgrade pip==23.3.2 setuptools\n",
        "# !uv pip install --no-progress --system torch==2.3.1 torchvision torchaudio\n",
        "!pip install uv\n",
        "!uv pip install --no-progress --system -r requirements.txt\n",
        "!uv pip install --no-progress --system -r requirements_bark_hubert_quantizer.txt\n",
        "!uv pip install --no-progress --system -r requirements_rvc.txt\n",
        "!uv pip install --no-progress --system -r requirements_audiocraft.txt\n",
        "!uv pip install --no-progress --system -r requirements_styletts2.txt\n",
        "!uv pip install --no-progress --system -r requirements_vall_e.txt\n",
        "!uv pip install --no-progress --system -r requirements_maha_tts.txt\n",
        "# !uv pip install --no-progress --system -r requirements_stable_audio.txt\n",
        "!pip install --no-progress --system -r requirements_stable_audio.txt\n",
        "# !uv pip install --no-progress --system hydra-core==1.3.2\n",
        "!uv pip install --no-progress --system nvidia-ml-py\n",
        "# !uv pip install --no-progress --system soundfile==0.12.1\n",
        "!uv pip install --no-progress --system huggingface_hub==0.25.2\n",
        "\n",
        "\n",
        "# Get latest Node.js\n",
        "# !wget https://nodejs.org/dist/v22.9.0/node-v22.9.0-linux-x64.tar.gz\n",
        "# !tar xfz node-v22.9.0-linux-x64.tar.gz\n",
        "# !cp -r node-v22.9.0-linux-x64/* /usr/local/\n",
        "\n",
        "# # Build the React UI\n",
        "# !cd react-ui && npm install && npm run build"
      ]
    },
    {
      "cell_type": "code",
      "execution_count": null,
      "id": "r0FihjXLklZG",
      "metadata": {
        "id": "r0FihjXLklZG"
      },
      "outputs": [],
      "source": [
        "# Start the App\n",
        "!python server.py --share\n",
        "# Note - Node.js/React UI works but isn't accesssible by default on Google Colab, only gradio is easy to open."
      ]
    },
    {
      "cell_type": "code",
      "execution_count": null,
      "id": "203e8384",
      "metadata": {
        "id": "203e8384"
      },
      "outputs": [],
      "source": [
        "# (Optional) Fix for deepspeed for tortoise\n",
        "# uv pip uninstall deepspeed\n",
        "# uv pip install deepspeed==0.8.3"
      ]
    }
  ],
  "metadata": {
    "colab": {
      "provenance": []
    },
    "kernelspec": {
      "display_name": "Python 3",
      "language": "python",
      "name": "python3"
    },
    "language_info": {
      "codemirror_mode": {
        "name": "ipython",
        "version": 3
      },
      "file_extension": ".py",
      "mimetype": "text/x-python",
      "name": "python",
      "nbconvert_exporter": "python",
      "pygments_lexer": "ipython3",
      "version": "3.10.11"
    }
  },
  "nbformat": 4,
  "nbformat_minor": 5
}